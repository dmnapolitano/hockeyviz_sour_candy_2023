{
 "cells": [
  {
   "cell_type": "code",
   "execution_count": 2,
   "id": "7f60ab32-08c3-4f93-b8b9-30e6b09b693b",
   "metadata": {},
   "outputs": [],
   "source": [
    "import warnings\n",
    "\n",
    "import matplotlib.pyplot as plt\n",
    "import seaborn as sns\n",
    "import pandas\n",
    "import numpy as np\n",
    "from scipy.stats import norm\n",
    "\n",
    "%matplotlib inline\n",
    "%config InlineBackend.figure_format = \"retina\"\n",
    "\n",
    "sns.set(rc={\"figure.figsize\" : (25, 15)})\n",
    "sns.set(font_scale=2)\n",
    "sns.set_style(\"ticks\")\n",
    "\n",
    "warnings.simplefilter(\"ignore\", FutureWarning)  # ignore some seaborn warnings until they update numpy"
   ]
  },
  {
   "cell_type": "code",
   "execution_count": 14,
   "id": "7abfa08b-0957-463c-9f27-0e4f393d99fc",
   "metadata": {},
   "outputs": [
    {
     "data": {
      "text/html": [
       "<div>\n",
       "<style scoped>\n",
       "    .dataframe tbody tr th:only-of-type {\n",
       "        vertical-align: middle;\n",
       "    }\n",
       "\n",
       "    .dataframe tbody tr th {\n",
       "        vertical-align: top;\n",
       "    }\n",
       "\n",
       "    .dataframe thead th {\n",
       "        text-align: right;\n",
       "    }\n",
       "</style>\n",
       "<table border=\"1\" class=\"dataframe\">\n",
       "  <thead>\n",
       "    <tr style=\"text-align: right;\">\n",
       "      <th></th>\n",
       "      <th>team</th>\n",
       "      <th>season_end</th>\n",
       "      <th>total_points</th>\n",
       "      <th>points_rank</th>\n",
       "    </tr>\n",
       "  </thead>\n",
       "  <tbody>\n",
       "    <tr>\n",
       "      <th>798</th>\n",
       "      <td>SEA</td>\n",
       "      <td>2022</td>\n",
       "      <td>60</td>\n",
       "      <td>30</td>\n",
       "    </tr>\n",
       "    <tr>\n",
       "      <th>830</th>\n",
       "      <td>SEA</td>\n",
       "      <td>2023</td>\n",
       "      <td>100</td>\n",
       "      <td>12</td>\n",
       "    </tr>\n",
       "  </tbody>\n",
       "</table>\n",
       "</div>"
      ],
      "text/plain": [
       "    team  season_end  total_points  points_rank\n",
       "798  SEA        2022            60           30\n",
       "830  SEA        2023           100           12"
      ]
     },
     "execution_count": 14,
     "metadata": {},
     "output_type": "execute_result"
    }
   ],
   "source": [
    "df = pandas.read_csv(\"NHL_API_point_totals_by_team_season_raw_1996-2003.csv\")\n",
    "sea_df = df[df[\"team\"] == \"SEA\"].copy()\n",
    "sea_df"
   ]
  },
  {
   "cell_type": "code",
   "execution_count": 25,
   "id": "9e945ce3-11e5-4fce-af36-17c2ba588a5c",
   "metadata": {},
   "outputs": [],
   "source": [
    "df = df[df[\"team\"] != \"SEA\"].copy().sort_values(by=[\"team\", \"season_end\"])"
   ]
  },
  {
   "cell_type": "code",
   "execution_count": 26,
   "id": "da77c22b-f726-4e17-b86e-39648847b3d0",
   "metadata": {},
   "outputs": [],
   "source": [
    "df[\"next_season_points\"] = df.groupby([\"team\"])[\"total_points\"].shift(-1)\n",
    "df[\"next_next_season_points\"] = df.groupby([\"team\"])[\"next_season_points\"].shift(-1)"
   ]
  },
  {
   "cell_type": "code",
   "execution_count": 27,
   "id": "f6ca5e6d-af64-4011-8f3f-7ad87f27fa2d",
   "metadata": {},
   "outputs": [
    {
     "data": {
      "text/html": [
       "<div>\n",
       "<style scoped>\n",
       "    .dataframe tbody tr th:only-of-type {\n",
       "        vertical-align: middle;\n",
       "    }\n",
       "\n",
       "    .dataframe tbody tr th {\n",
       "        vertical-align: top;\n",
       "    }\n",
       "\n",
       "    .dataframe thead th {\n",
       "        text-align: right;\n",
       "    }\n",
       "</style>\n",
       "<table border=\"1\" class=\"dataframe\">\n",
       "  <thead>\n",
       "    <tr style=\"text-align: right;\">\n",
       "      <th></th>\n",
       "      <th>team</th>\n",
       "      <th>season_end</th>\n",
       "      <th>total_points</th>\n",
       "      <th>points_rank</th>\n",
       "      <th>next_season_points</th>\n",
       "      <th>next_next_season_points</th>\n",
       "    </tr>\n",
       "  </thead>\n",
       "  <tbody>\n",
       "    <tr>\n",
       "      <th>20</th>\n",
       "      <td>ANA</td>\n",
       "      <td>1996</td>\n",
       "      <td>78</td>\n",
       "      <td>17</td>\n",
       "      <td>85.0</td>\n",
       "      <td>65.0</td>\n",
       "    </tr>\n",
       "    <tr>\n",
       "      <th>46</th>\n",
       "      <td>ANA</td>\n",
       "      <td>1997</td>\n",
       "      <td>85</td>\n",
       "      <td>9</td>\n",
       "      <td>65.0</td>\n",
       "      <td>83.0</td>\n",
       "    </tr>\n",
       "    <tr>\n",
       "      <th>73</th>\n",
       "      <td>ANA</td>\n",
       "      <td>1998</td>\n",
       "      <td>65</td>\n",
       "      <td>23</td>\n",
       "      <td>83.0</td>\n",
       "      <td>83.0</td>\n",
       "    </tr>\n",
       "    <tr>\n",
       "      <th>100</th>\n",
       "      <td>ANA</td>\n",
       "      <td>1999</td>\n",
       "      <td>83</td>\n",
       "      <td>14</td>\n",
       "      <td>83.0</td>\n",
       "      <td>66.0</td>\n",
       "    </tr>\n",
       "    <tr>\n",
       "      <th>128</th>\n",
       "      <td>ANA</td>\n",
       "      <td>2000</td>\n",
       "      <td>83</td>\n",
       "      <td>20</td>\n",
       "      <td>66.0</td>\n",
       "      <td>69.0</td>\n",
       "    </tr>\n",
       "    <tr>\n",
       "      <th>...</th>\n",
       "      <td>...</td>\n",
       "      <td>...</td>\n",
       "      <td>...</td>\n",
       "      <td>...</td>\n",
       "      <td>...</td>\n",
       "      <td>...</td>\n",
       "    </tr>\n",
       "    <tr>\n",
       "      <th>687</th>\n",
       "      <td>WSH</td>\n",
       "      <td>2019</td>\n",
       "      <td>104</td>\n",
       "      <td>4</td>\n",
       "      <td>90.0</td>\n",
       "      <td>77.0</td>\n",
       "    </tr>\n",
       "    <tr>\n",
       "      <th>718</th>\n",
       "      <td>WSH</td>\n",
       "      <td>2020</td>\n",
       "      <td>90</td>\n",
       "      <td>5</td>\n",
       "      <td>77.0</td>\n",
       "      <td>100.0</td>\n",
       "    </tr>\n",
       "    <tr>\n",
       "      <th>749</th>\n",
       "      <td>WSH</td>\n",
       "      <td>2021</td>\n",
       "      <td>77</td>\n",
       "      <td>6</td>\n",
       "      <td>100.0</td>\n",
       "      <td>80.0</td>\n",
       "    </tr>\n",
       "    <tr>\n",
       "      <th>780</th>\n",
       "      <td>WSH</td>\n",
       "      <td>2022</td>\n",
       "      <td>100</td>\n",
       "      <td>13</td>\n",
       "      <td>80.0</td>\n",
       "      <td>NaN</td>\n",
       "    </tr>\n",
       "    <tr>\n",
       "      <th>812</th>\n",
       "      <td>WSH</td>\n",
       "      <td>2023</td>\n",
       "      <td>80</td>\n",
       "      <td>24</td>\n",
       "      <td>NaN</td>\n",
       "      <td>NaN</td>\n",
       "    </tr>\n",
       "  </tbody>\n",
       "</table>\n",
       "<p>829 rows × 6 columns</p>\n",
       "</div>"
      ],
      "text/plain": [
       "    team  season_end  total_points  points_rank  next_season_points  \\\n",
       "20   ANA        1996            78           17                85.0   \n",
       "46   ANA        1997            85            9                65.0   \n",
       "73   ANA        1998            65           23                83.0   \n",
       "100  ANA        1999            83           14                83.0   \n",
       "128  ANA        2000            83           20                66.0   \n",
       "..   ...         ...           ...          ...                 ...   \n",
       "687  WSH        2019           104            4                90.0   \n",
       "718  WSH        2020            90            5                77.0   \n",
       "749  WSH        2021            77            6               100.0   \n",
       "780  WSH        2022           100           13                80.0   \n",
       "812  WSH        2023            80           24                 NaN   \n",
       "\n",
       "     next_next_season_points  \n",
       "20                      65.0  \n",
       "46                      83.0  \n",
       "73                      83.0  \n",
       "100                     66.0  \n",
       "128                     69.0  \n",
       "..                       ...  \n",
       "687                     77.0  \n",
       "718                    100.0  \n",
       "749                     80.0  \n",
       "780                      NaN  \n",
       "812                      NaN  \n",
       "\n",
       "[829 rows x 6 columns]"
      ]
     },
     "execution_count": 27,
     "metadata": {},
     "output_type": "execute_result"
    }
   ],
   "source": [
    "df"
   ]
  },
  {
   "cell_type": "code",
   "execution_count": 38,
   "id": "8a4fae33-d3c8-4a3b-8a8b-50dd1a62eed4",
   "metadata": {},
   "outputs": [
    {
     "data": {
      "text/html": [
       "<div>\n",
       "<style scoped>\n",
       "    .dataframe tbody tr th:only-of-type {\n",
       "        vertical-align: middle;\n",
       "    }\n",
       "\n",
       "    .dataframe tbody tr th {\n",
       "        vertical-align: top;\n",
       "    }\n",
       "\n",
       "    .dataframe thead th {\n",
       "        text-align: right;\n",
       "    }\n",
       "</style>\n",
       "<table border=\"1\" class=\"dataframe\">\n",
       "  <thead>\n",
       "    <tr style=\"text-align: right;\">\n",
       "      <th></th>\n",
       "      <th>team</th>\n",
       "      <th>season_end</th>\n",
       "      <th>total_points</th>\n",
       "      <th>points_rank</th>\n",
       "      <th>next_season_points</th>\n",
       "      <th>next_next_season_points</th>\n",
       "    </tr>\n",
       "  </thead>\n",
       "  <tbody>\n",
       "    <tr>\n",
       "      <th>759</th>\n",
       "      <td>DAL</td>\n",
       "      <td>2021</td>\n",
       "      <td>60</td>\n",
       "      <td>16</td>\n",
       "      <td>98.0</td>\n",
       "      <td>108.0</td>\n",
       "    </tr>\n",
       "    <tr>\n",
       "      <th>517</th>\n",
       "      <td>LAK</td>\n",
       "      <td>2013</td>\n",
       "      <td>59</td>\n",
       "      <td>8</td>\n",
       "      <td>100.0</td>\n",
       "      <td>95.0</td>\n",
       "    </tr>\n",
       "    <tr>\n",
       "      <th>521</th>\n",
       "      <td>MIN</td>\n",
       "      <td>2013</td>\n",
       "      <td>55</td>\n",
       "      <td>17</td>\n",
       "      <td>98.0</td>\n",
       "      <td>100.0</td>\n",
       "    </tr>\n",
       "    <tr>\n",
       "      <th>500</th>\n",
       "      <td>MTL</td>\n",
       "      <td>2013</td>\n",
       "      <td>63</td>\n",
       "      <td>4</td>\n",
       "      <td>100.0</td>\n",
       "      <td>110.0</td>\n",
       "    </tr>\n",
       "    <tr>\n",
       "      <th>752</th>\n",
       "      <td>NSH</td>\n",
       "      <td>2021</td>\n",
       "      <td>64</td>\n",
       "      <td>13</td>\n",
       "      <td>97.0</td>\n",
       "      <td>92.0</td>\n",
       "    </tr>\n",
       "    <tr>\n",
       "      <th>495</th>\n",
       "      <td>NYR</td>\n",
       "      <td>2013</td>\n",
       "      <td>56</td>\n",
       "      <td>14</td>\n",
       "      <td>96.0</td>\n",
       "      <td>113.0</td>\n",
       "    </tr>\n",
       "    <tr>\n",
       "      <th>316</th>\n",
       "      <td>PHI</td>\n",
       "      <td>2007</td>\n",
       "      <td>56</td>\n",
       "      <td>30</td>\n",
       "      <td>95.0</td>\n",
       "      <td>99.0</td>\n",
       "    </tr>\n",
       "  </tbody>\n",
       "</table>\n",
       "</div>"
      ],
      "text/plain": [
       "    team  season_end  total_points  points_rank  next_season_points  \\\n",
       "759  DAL        2021            60           16                98.0   \n",
       "517  LAK        2013            59            8               100.0   \n",
       "521  MIN        2013            55           17                98.0   \n",
       "500  MTL        2013            63            4               100.0   \n",
       "752  NSH        2021            64           13                97.0   \n",
       "495  NYR        2013            56           14                96.0   \n",
       "316  PHI        2007            56           30                95.0   \n",
       "\n",
       "     next_next_season_points  \n",
       "759                    108.0  \n",
       "517                     95.0  \n",
       "521                    100.0  \n",
       "500                    110.0  \n",
       "752                     92.0  \n",
       "495                    113.0  \n",
       "316                     99.0  "
      ]
     },
     "execution_count": 38,
     "metadata": {},
     "output_type": "execute_result"
    }
   ],
   "source": [
    "likely_df = df.query('total_points >= 55 & total_points <= 64 & next_season_points >= 95 & next_season_points <= 104')\n",
    "likely_df"
   ]
  },
  {
   "cell_type": "code",
   "execution_count": 39,
   "id": "1ee4f46c-8daf-4d1e-a1b9-85d0db1894d2",
   "metadata": {},
   "outputs": [
    {
     "data": {
      "text/plain": [
       "102.42857142857143"
      ]
     },
     "execution_count": 39,
     "metadata": {},
     "output_type": "execute_result"
    }
   ],
   "source": [
    "nn_mean = likely_df[\"next_next_season_points\"].mean()\n",
    "nn_mean"
   ]
  },
  {
   "cell_type": "code",
   "execution_count": 40,
   "id": "464206e5-cab4-4d7f-ba88-393d7b68476f",
   "metadata": {},
   "outputs": [
    {
     "data": {
      "text/plain": [
       "7.976154939508611"
      ]
     },
     "execution_count": 40,
     "metadata": {},
     "output_type": "execute_result"
    }
   ],
   "source": [
    "nn_std = likely_df[\"next_next_season_points\"].std()\n",
    "nn_std"
   ]
  },
  {
   "cell_type": "code",
   "execution_count": 41,
   "id": "7594847c-e1bf-49fd-8486-4ca438ac7c0e",
   "metadata": {},
   "outputs": [
    {
     "data": {
      "text/plain": [
       "(86.79530774713456, 118.0618351100083)"
      ]
     },
     "execution_count": 41,
     "metadata": {},
     "output_type": "execute_result"
    }
   ],
   "source": [
    "# now for a 95% \"prediction\" interval\n",
    "interval = 1.96 * nn_std\n",
    "lower, upper = nn_mean - interval, nn_mean + interval\n",
    "(lower, upper)"
   ]
  },
  {
   "cell_type": "code",
   "execution_count": 42,
   "id": "6c4496b1-5902-4688-af07-aa559b42b415",
   "metadata": {},
   "outputs": [
    {
     "data": {
      "text/plain": [
       "15.633263681436876"
      ]
     },
     "execution_count": 42,
     "metadata": {},
     "output_type": "execute_result"
    }
   ],
   "source": [
    "interval"
   ]
  },
  {
   "cell_type": "code",
   "execution_count": null,
   "id": "5860b37c-5e22-4451-93f5-63c1d2cbf711",
   "metadata": {},
   "outputs": [],
   "source": []
  }
 ],
 "metadata": {
  "kernelspec": {
   "display_name": "Python 3 (ipykernel)",
   "language": "python",
   "name": "python3"
  },
  "language_info": {
   "codemirror_mode": {
    "name": "ipython",
    "version": 3
   },
   "file_extension": ".py",
   "mimetype": "text/x-python",
   "name": "python",
   "nbconvert_exporter": "python",
   "pygments_lexer": "ipython3",
   "version": "3.11.5"
  }
 },
 "nbformat": 4,
 "nbformat_minor": 5
}
