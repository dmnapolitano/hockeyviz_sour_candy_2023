{
 "cells": [
  {
   "cell_type": "code",
   "execution_count": 1,
   "id": "7f60ab32-08c3-4f93-b8b9-30e6b09b693b",
   "metadata": {},
   "outputs": [],
   "source": [
    "import warnings\n",
    "from datetime import date\n",
    "\n",
    "import matplotlib.pyplot as plt\n",
    "import seaborn as sns\n",
    "import pandas\n",
    "import numpy as np\n",
    "from scipy.stats import norm\n",
    "from statsmodels.tsa.ar_model import AutoReg\n",
    "\n",
    "%matplotlib inline\n",
    "%config InlineBackend.figure_format = \"retina\"\n",
    "\n",
    "sns.set(rc={\"figure.figsize\" : (25, 15)})\n",
    "sns.set(font_scale=2)\n",
    "sns.set_style(\"ticks\")\n",
    "\n",
    "warnings.simplefilter(\"ignore\", FutureWarning)  # ignore some seaborn warnings until they update numpy"
   ]
  },
  {
   "cell_type": "code",
   "execution_count": 2,
   "id": "7abfa08b-0957-463c-9f27-0e4f393d99fc",
   "metadata": {},
   "outputs": [
    {
     "data": {
      "text/html": [
       "<div>\n",
       "<style scoped>\n",
       "    .dataframe tbody tr th:only-of-type {\n",
       "        vertical-align: middle;\n",
       "    }\n",
       "\n",
       "    .dataframe tbody tr th {\n",
       "        vertical-align: top;\n",
       "    }\n",
       "\n",
       "    .dataframe thead th {\n",
       "        text-align: right;\n",
       "    }\n",
       "</style>\n",
       "<table border=\"1\" class=\"dataframe\">\n",
       "  <thead>\n",
       "    <tr style=\"text-align: right;\">\n",
       "      <th></th>\n",
       "      <th>team</th>\n",
       "      <th>season_end</th>\n",
       "      <th>total_points</th>\n",
       "      <th>points_rank</th>\n",
       "    </tr>\n",
       "  </thead>\n",
       "  <tbody>\n",
       "    <tr>\n",
       "      <th>673</th>\n",
       "      <td>VGK</td>\n",
       "      <td>2018</td>\n",
       "      <td>109</td>\n",
       "      <td>5</td>\n",
       "    </tr>\n",
       "    <tr>\n",
       "      <th>704</th>\n",
       "      <td>VGK</td>\n",
       "      <td>2019</td>\n",
       "      <td>93</td>\n",
       "      <td>15</td>\n",
       "    </tr>\n",
       "    <tr>\n",
       "      <th>735</th>\n",
       "      <td>VGK</td>\n",
       "      <td>2020</td>\n",
       "      <td>86</td>\n",
       "      <td>7</td>\n",
       "    </tr>\n",
       "    <tr>\n",
       "      <th>766</th>\n",
       "      <td>VGK</td>\n",
       "      <td>2021</td>\n",
       "      <td>82</td>\n",
       "      <td>2</td>\n",
       "    </tr>\n",
       "    <tr>\n",
       "      <th>797</th>\n",
       "      <td>VGK</td>\n",
       "      <td>2022</td>\n",
       "      <td>94</td>\n",
       "      <td>17</td>\n",
       "    </tr>\n",
       "    <tr>\n",
       "      <th>829</th>\n",
       "      <td>VGK</td>\n",
       "      <td>2023</td>\n",
       "      <td>111</td>\n",
       "      <td>5</td>\n",
       "    </tr>\n",
       "  </tbody>\n",
       "</table>\n",
       "</div>"
      ],
      "text/plain": [
       "    team  season_end  total_points  points_rank\n",
       "673  VGK        2018           109            5\n",
       "704  VGK        2019            93           15\n",
       "735  VGK        2020            86            7\n",
       "766  VGK        2021            82            2\n",
       "797  VGK        2022            94           17\n",
       "829  VGK        2023           111            5"
      ]
     },
     "execution_count": 2,
     "metadata": {},
     "output_type": "execute_result"
    }
   ],
   "source": [
    "df = pandas.read_csv(\"NHL_API_point_totals_by_team_season_raw_1996-2003.csv\")\n",
    "vegas_df = df[df[\"team\"] == \"VGK\"].copy()\n",
    "vegas_df"
   ]
  },
  {
   "cell_type": "code",
   "execution_count": 3,
   "id": "c9382916-ae7c-4095-8cb0-145a23b74fa0",
   "metadata": {},
   "outputs": [],
   "source": [
    "vegas_df[\"season_end\"] = vegas_df[\"season_end\"].apply(lambda x : date(month=5, day=1, year=x))\n",
    "vegas_df[\"season_end\"] = pandas.to_datetime(vegas_df[\"season_end\"])"
   ]
  },
  {
   "cell_type": "code",
   "execution_count": 4,
   "id": "fb3994b4-598c-4896-8f79-98b46a1a3f48",
   "metadata": {},
   "outputs": [],
   "source": [
    "vegas_df = vegas_df.set_index(\"season_end\")"
   ]
  },
  {
   "cell_type": "code",
   "execution_count": 125,
   "id": "13d4e222-6548-4bed-b9a4-aeb4272b12d2",
   "metadata": {},
   "outputs": [
    {
     "name": "stderr",
     "output_type": "stream",
     "text": [
      "/Users/diane/miniconda3/lib/python3.11/site-packages/statsmodels/tsa/base/tsa_model.py:473: ValueWarning: No frequency information was provided, so inferred frequency AS-MAY will be used.\n",
      "  self._init_dates(dates, freq)\n"
     ]
    }
   ],
   "source": [
    "ar = AutoReg(vegas_df[\"total_points\"][0:-1], lags=1, trend=\"ct\").fit()"
   ]
  },
  {
   "cell_type": "code",
   "execution_count": 126,
   "id": "0c80adf2-194f-4ae8-964c-0b3178cd398a",
   "metadata": {},
   "outputs": [
    {
     "name": "stderr",
     "output_type": "stream",
     "text": [
      "/Users/diane/miniconda3/lib/python3.11/site-packages/statsmodels/tsa/deterministic.py:302: UserWarning: Only PeriodIndexes, DatetimeIndexes with a frequency set, RangesIndexes, and Index with a unit increment support extending. The index is set will contain the position relative to the data length.\n",
      "  fcast_index = self._extend_index(index, steps, forecast_index)\n"
     ]
    },
    {
     "data": {
      "text/plain": [
       "2023-05-01    121.511905\n",
       "Freq: AS-MAY, dtype: float64"
      ]
     },
     "execution_count": 126,
     "metadata": {},
     "output_type": "execute_result"
    }
   ],
   "source": [
    "ar.forecast(1)"
   ]
  },
  {
   "cell_type": "code",
   "execution_count": 127,
   "id": "2810637f-f138-4f71-aa3c-3c5b4db71308",
   "metadata": {},
   "outputs": [
    {
     "data": {
      "text/html": [
       "<table class=\"simpletable\">\n",
       "<caption>AutoReg Model Results</caption>\n",
       "<tr>\n",
       "  <th>Dep. Variable:</th>   <td>total_points</td>   <th>  No. Observations:  </th>    <td>5</td>  \n",
       "</tr>\n",
       "<tr>\n",
       "  <th>Model:</th>            <td>AutoReg(1)</td>    <th>  Log Likelihood     </th> <td>-9.268</td>\n",
       "</tr>\n",
       "<tr>\n",
       "  <th>Method:</th>         <td>Conditional MLE</td> <th>  S.D. of innovations</th>  <td>2.455</td>\n",
       "</tr>\n",
       "<tr>\n",
       "  <th>Date:</th>          <td>Mon, 02 Oct 2023</td> <th>  AIC                </th> <td>26.536</td>\n",
       "</tr>\n",
       "<tr>\n",
       "  <th>Time:</th>              <td>14:22:26</td>     <th>  BIC                </th> <td>24.082</td>\n",
       "</tr>\n",
       "<tr>\n",
       "  <th>Sample:</th>           <td>05-01-2019</td>    <th>  HQIC               </th> <td>21.149</td>\n",
       "</tr>\n",
       "<tr>\n",
       "  <th></th>                 <td>- 05-01-2022</td>   <th>                     </th>    <td> </td>  \n",
       "</tr>\n",
       "</table>\n",
       "<table class=\"simpletable\">\n",
       "<tr>\n",
       "         <td></td>            <th>coef</th>     <th>std err</th>      <th>z</th>      <th>P>|z|</th>  <th>[0.025</th>    <th>0.975]</th>  \n",
       "</tr>\n",
       "<tr>\n",
       "  <th>const</th>           <td>  -84.1071</td> <td>   49.398</td> <td>   -1.703</td> <td> 0.089</td> <td> -180.926</td> <td>   12.712</td>\n",
       "</tr>\n",
       "<tr>\n",
       "  <th>trend</th>           <td>   12.2619</td> <td>    3.681</td> <td>    3.331</td> <td> 0.001</td> <td>    5.047</td> <td>   19.477</td>\n",
       "</tr>\n",
       "<tr>\n",
       "  <th>total_points.L1</th> <td>    1.4048</td> <td>    0.399</td> <td>    3.518</td> <td> 0.000</td> <td>    0.622</td> <td>    2.187</td>\n",
       "</tr>\n",
       "</table>\n",
       "<table class=\"simpletable\">\n",
       "<caption>Roots</caption>\n",
       "<tr>\n",
       "    <td></td>   <th>            Real</th>  <th>         Imaginary</th> <th>         Modulus</th>  <th>        Frequency</th>\n",
       "</tr>\n",
       "<tr>\n",
       "  <th>AR.1</th> <td>           0.7119</td> <td>          +0.0000j</td> <td>           0.7119</td> <td>           0.0000</td>\n",
       "</tr>\n",
       "</table>"
      ],
      "text/latex": [
       "\\begin{center}\n",
       "\\begin{tabular}{lclc}\n",
       "\\toprule\n",
       "\\textbf{Dep. Variable:}   &       total\\_points       & \\textbf{  No. Observations:  } &             5              \\\\\n",
       "\\textbf{Model:}           &         AutoReg(1)        & \\textbf{  Log Likelihood     } &           -9.268           \\\\\n",
       "\\textbf{Method:}          &      Conditional MLE      & \\textbf{  S.D. of innovations} &           2.455            \\\\\n",
       "\\textbf{Date:}            &      Mon, 02 Oct 2023     & \\textbf{  AIC                } &           26.536           \\\\\n",
       "\\textbf{Time:}            &          14:22:26         & \\textbf{  BIC                } &           24.082           \\\\\n",
       "\\textbf{Sample:}          &         05-01-2019        & \\textbf{  HQIC               } &           21.149           \\\\\n",
       "\\textbf{}                 &        - 05-01-2022       & \\textbf{                     } &                            \\\\\n",
       "\\bottomrule\n",
       "\\end{tabular}\n",
       "\\begin{tabular}{lcccccc}\n",
       "                          & \\textbf{coef} & \\textbf{std err} & \\textbf{z} & \\textbf{P$> |$z$|$} & \\textbf{[0.025} & \\textbf{0.975]}  \\\\\n",
       "\\midrule\n",
       "\\textbf{const}            &     -84.1071  &       49.398     &    -1.703  &         0.089        &     -180.926    &       12.712     \\\\\n",
       "\\textbf{trend}            &      12.2619  &        3.681     &     3.331  &         0.001        &        5.047    &       19.477     \\\\\n",
       "\\textbf{total\\_points.L1} &       1.4048  &        0.399     &     3.518  &         0.000        &        0.622    &        2.187     \\\\\n",
       "\\bottomrule\n",
       "\\end{tabular}\n",
       "\\begin{tabular}{lcccc}\n",
       "              & \\textbf{            Real} & \\textbf{         Imaginary} & \\textbf{         Modulus} & \\textbf{        Frequency}  \\\\\n",
       "\\midrule\n",
       "\\textbf{AR.1} &                0.7119     &                +0.0000j     &                0.7119     &                0.0000       \\\\\n",
       "\\bottomrule\n",
       "\\end{tabular}\n",
       "%\\caption{AutoReg Model Results}\n",
       "\\end{center}"
      ],
      "text/plain": [
       "<class 'statsmodels.iolib.summary.Summary'>\n",
       "\"\"\"\n",
       "                            AutoReg Model Results                             \n",
       "==============================================================================\n",
       "Dep. Variable:           total_points   No. Observations:                    5\n",
       "Model:                     AutoReg(1)   Log Likelihood                  -9.268\n",
       "Method:               Conditional MLE   S.D. of innovations              2.455\n",
       "Date:                Mon, 02 Oct 2023   AIC                             26.536\n",
       "Time:                        14:22:26   BIC                             24.082\n",
       "Sample:                    05-01-2019   HQIC                            21.149\n",
       "                         - 05-01-2022                                         \n",
       "===================================================================================\n",
       "                      coef    std err          z      P>|z|      [0.025      0.975]\n",
       "-----------------------------------------------------------------------------------\n",
       "const             -84.1071     49.398     -1.703      0.089    -180.926      12.712\n",
       "trend              12.2619      3.681      3.331      0.001       5.047      19.477\n",
       "total_points.L1     1.4048      0.399      3.518      0.000       0.622       2.187\n",
       "                                    Roots                                    \n",
       "=============================================================================\n",
       "                  Real          Imaginary           Modulus         Frequency\n",
       "-----------------------------------------------------------------------------\n",
       "AR.1            0.7119           +0.0000j            0.7119            0.0000\n",
       "-----------------------------------------------------------------------------\n",
       "\"\"\""
      ]
     },
     "execution_count": 127,
     "metadata": {},
     "output_type": "execute_result"
    }
   ],
   "source": [
    "ar.summary()"
   ]
  },
  {
   "cell_type": "code",
   "execution_count": 128,
   "id": "af24889a-a6f0-4e7a-85da-da93b0e11822",
   "metadata": {},
   "outputs": [
    {
     "name": "stderr",
     "output_type": "stream",
     "text": [
      "/Users/diane/miniconda3/lib/python3.11/site-packages/statsmodels/tsa/base/tsa_model.py:473: ValueWarning: No frequency information was provided, so inferred frequency AS-MAY will be used.\n",
      "  self._init_dates(dates, freq)\n"
     ]
    }
   ],
   "source": [
    "ar = AutoReg(vegas_df[\"total_points\"], lags=1, trend=\"ct\").fit()"
   ]
  },
  {
   "cell_type": "code",
   "execution_count": 129,
   "id": "f5c051f9-3949-483c-8d9a-75e93dd94bf6",
   "metadata": {},
   "outputs": [
    {
     "name": "stderr",
     "output_type": "stream",
     "text": [
      "/Users/diane/miniconda3/lib/python3.11/site-packages/statsmodels/tsa/deterministic.py:302: UserWarning: Only PeriodIndexes, DatetimeIndexes with a frequency set, RangesIndexes, and Index with a unit increment support extending. The index is set will contain the position relative to the data length.\n",
      "  fcast_index = self._extend_index(index, steps, forecast_index)\n"
     ]
    },
    {
     "data": {
      "text/plain": [
       "2024-05-01    137.595593\n",
       "Freq: AS-MAY, dtype: float64"
      ]
     },
     "execution_count": 129,
     "metadata": {},
     "output_type": "execute_result"
    }
   ],
   "source": [
    "ar.forecast(1)"
   ]
  },
  {
   "cell_type": "code",
   "execution_count": 130,
   "id": "054fdca8-914d-43b1-8bb9-baba9c8c3855",
   "metadata": {},
   "outputs": [],
   "source": [
    "resid_std = ar.resid.std()"
   ]
  },
  {
   "cell_type": "code",
   "execution_count": 131,
   "id": "6b03457a-fc63-4be7-9459-bc3c0e912829",
   "metadata": {},
   "outputs": [
    {
     "data": {
      "text/plain": [
       "2.76430111409753"
      ]
     },
     "execution_count": 131,
     "metadata": {},
     "output_type": "execute_result"
    }
   ],
   "source": [
    "resid_std"
   ]
  },
  {
   "cell_type": "code",
   "execution_count": 132,
   "id": "82844e1b-31eb-42d3-9a6c-9f5ec70a301f",
   "metadata": {},
   "outputs": [
    {
     "name": "stderr",
     "output_type": "stream",
     "text": [
      "/Users/diane/miniconda3/lib/python3.11/site-packages/statsmodels/tsa/deterministic.py:302: UserWarning: Only PeriodIndexes, DatetimeIndexes with a frequency set, RangesIndexes, and Index with a unit increment support extending. The index is set will contain the position relative to the data length.\n",
      "  fcast_index = self._extend_index(index, steps, forecast_index)\n"
     ]
    },
    {
     "data": {
      "text/plain": [
       "2024-05-01    132.177563\n",
       "Freq: AS-MAY, dtype: float64"
      ]
     },
     "execution_count": 132,
     "metadata": {},
     "output_type": "execute_result"
    }
   ],
   "source": [
    "ar.forecast(1) - (1.96 * resid_std)"
   ]
  },
  {
   "cell_type": "code",
   "execution_count": 133,
   "id": "8aaa7efb-1e3e-4978-894a-df9c0cc1439f",
   "metadata": {},
   "outputs": [
    {
     "name": "stderr",
     "output_type": "stream",
     "text": [
      "/Users/diane/miniconda3/lib/python3.11/site-packages/statsmodels/tsa/deterministic.py:302: UserWarning: Only PeriodIndexes, DatetimeIndexes with a frequency set, RangesIndexes, and Index with a unit increment support extending. The index is set will contain the position relative to the data length.\n",
      "  fcast_index = self._extend_index(index, steps, forecast_index)\n"
     ]
    },
    {
     "data": {
      "text/plain": [
       "2024-05-01    143.013624\n",
       "Freq: AS-MAY, dtype: float64"
      ]
     },
     "execution_count": 133,
     "metadata": {},
     "output_type": "execute_result"
    }
   ],
   "source": [
    "ar.forecast(1) + (1.96 * resid_std)"
   ]
  },
  {
   "cell_type": "code",
   "execution_count": null,
   "id": "0d05d2da-ca60-4ba9-a2f2-d786c789e711",
   "metadata": {},
   "outputs": [],
   "source": []
  }
 ],
 "metadata": {
  "kernelspec": {
   "display_name": "Python 3 (ipykernel)",
   "language": "python",
   "name": "python3"
  },
  "language_info": {
   "codemirror_mode": {
    "name": "ipython",
    "version": 3
   },
   "file_extension": ".py",
   "mimetype": "text/x-python",
   "name": "python",
   "nbconvert_exporter": "python",
   "pygments_lexer": "ipython3",
   "version": "3.11.5"
  }
 },
 "nbformat": 4,
 "nbformat_minor": 5
}
