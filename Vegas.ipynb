{
 "cells": [
  {
   "cell_type": "code",
   "execution_count": 16,
   "id": "7f60ab32-08c3-4f93-b8b9-30e6b09b693b",
   "metadata": {},
   "outputs": [],
   "source": [
    "import warnings\n",
    "from datetime import date\n",
    "\n",
    "import matplotlib.pyplot as plt\n",
    "import seaborn as sns\n",
    "import pandas\n",
    "import numpy as np\n",
    "from scipy.stats import norm\n",
    "from statsmodels.tsa.holtwinters import SimpleExpSmoothing\n",
    "\n",
    "%matplotlib inline\n",
    "%config InlineBackend.figure_format = \"retina\"\n",
    "\n",
    "sns.set(rc={\"figure.figsize\" : (25, 15)})\n",
    "sns.set(font_scale=2)\n",
    "sns.set_style(\"ticks\")\n",
    "\n",
    "warnings.simplefilter(\"ignore\", FutureWarning)  # ignore some seaborn warnings until they update numpy"
   ]
  },
  {
   "cell_type": "code",
   "execution_count": 17,
   "id": "7abfa08b-0957-463c-9f27-0e4f393d99fc",
   "metadata": {},
   "outputs": [
    {
     "data": {
      "text/html": [
       "<div>\n",
       "<style scoped>\n",
       "    .dataframe tbody tr th:only-of-type {\n",
       "        vertical-align: middle;\n",
       "    }\n",
       "\n",
       "    .dataframe tbody tr th {\n",
       "        vertical-align: top;\n",
       "    }\n",
       "\n",
       "    .dataframe thead th {\n",
       "        text-align: right;\n",
       "    }\n",
       "</style>\n",
       "<table border=\"1\" class=\"dataframe\">\n",
       "  <thead>\n",
       "    <tr style=\"text-align: right;\">\n",
       "      <th></th>\n",
       "      <th>team</th>\n",
       "      <th>season_end</th>\n",
       "      <th>total_points</th>\n",
       "      <th>points_rank</th>\n",
       "    </tr>\n",
       "  </thead>\n",
       "  <tbody>\n",
       "    <tr>\n",
       "      <th>673</th>\n",
       "      <td>VGK</td>\n",
       "      <td>2018</td>\n",
       "      <td>109</td>\n",
       "      <td>5</td>\n",
       "    </tr>\n",
       "    <tr>\n",
       "      <th>704</th>\n",
       "      <td>VGK</td>\n",
       "      <td>2019</td>\n",
       "      <td>93</td>\n",
       "      <td>15</td>\n",
       "    </tr>\n",
       "    <tr>\n",
       "      <th>735</th>\n",
       "      <td>VGK</td>\n",
       "      <td>2020</td>\n",
       "      <td>86</td>\n",
       "      <td>7</td>\n",
       "    </tr>\n",
       "    <tr>\n",
       "      <th>766</th>\n",
       "      <td>VGK</td>\n",
       "      <td>2021</td>\n",
       "      <td>82</td>\n",
       "      <td>2</td>\n",
       "    </tr>\n",
       "    <tr>\n",
       "      <th>797</th>\n",
       "      <td>VGK</td>\n",
       "      <td>2022</td>\n",
       "      <td>94</td>\n",
       "      <td>17</td>\n",
       "    </tr>\n",
       "    <tr>\n",
       "      <th>829</th>\n",
       "      <td>VGK</td>\n",
       "      <td>2023</td>\n",
       "      <td>111</td>\n",
       "      <td>5</td>\n",
       "    </tr>\n",
       "  </tbody>\n",
       "</table>\n",
       "</div>"
      ],
      "text/plain": [
       "    team  season_end  total_points  points_rank\n",
       "673  VGK        2018           109            5\n",
       "704  VGK        2019            93           15\n",
       "735  VGK        2020            86            7\n",
       "766  VGK        2021            82            2\n",
       "797  VGK        2022            94           17\n",
       "829  VGK        2023           111            5"
      ]
     },
     "execution_count": 17,
     "metadata": {},
     "output_type": "execute_result"
    }
   ],
   "source": [
    "df = pandas.read_csv(\"NHL_API_point_totals_by_team_season_raw_1996-2003.csv\")\n",
    "vegas_df = df[df[\"team\"] == \"VGK\"].copy()\n",
    "vegas_df"
   ]
  },
  {
   "cell_type": "code",
   "execution_count": 18,
   "id": "c9382916-ae7c-4095-8cb0-145a23b74fa0",
   "metadata": {},
   "outputs": [],
   "source": [
    "vegas_df[\"season_end\"] = vegas_df[\"season_end\"].apply(lambda x : date(month=5, day=1, year=x))\n",
    "vegas_df[\"season_end\"] = pandas.to_datetime(vegas_df[\"season_end\"])"
   ]
  },
  {
   "cell_type": "code",
   "execution_count": 19,
   "id": "fb3994b4-598c-4896-8f79-98b46a1a3f48",
   "metadata": {},
   "outputs": [],
   "source": [
    "vegas_df = vegas_df.set_index(\"season_end\")"
   ]
  },
  {
   "cell_type": "code",
   "execution_count": 33,
   "id": "088480c7-528c-4c2a-9c94-2fece44dacb3",
   "metadata": {},
   "outputs": [],
   "source": [
    "alphas = np.linspace(0.01, 0.99, 101)"
   ]
  },
  {
   "cell_type": "code",
   "execution_count": 42,
   "id": "2aea664e-3baf-48f4-a23b-a4b8ccaf935d",
   "metadata": {},
   "outputs": [
    {
     "name": "stderr",
     "output_type": "stream",
     "text": [
      "/Users/diane/miniconda3/lib/python3.11/site-packages/statsmodels/tsa/base/tsa_model.py:473: ValueWarning: No frequency information was provided, so inferred frequency AS-MAY will be used.\n",
      "  self._init_dates(dates, freq)\n",
      "/Users/diane/miniconda3/lib/python3.11/site-packages/statsmodels/tsa/base/tsa_model.py:473: ValueWarning: No frequency information was provided, so inferred frequency AS-MAY will be used.\n",
      "  self._init_dates(dates, freq)\n",
      "/Users/diane/miniconda3/lib/python3.11/site-packages/statsmodels/tsa/base/tsa_model.py:473: ValueWarning: No frequency information was provided, so inferred frequency AS-MAY will be used.\n",
      "  self._init_dates(dates, freq)\n",
      "/Users/diane/miniconda3/lib/python3.11/site-packages/statsmodels/tsa/base/tsa_model.py:473: ValueWarning: No frequency information was provided, so inferred frequency AS-MAY will be used.\n",
      "  self._init_dates(dates, freq)\n",
      "/Users/diane/miniconda3/lib/python3.11/site-packages/statsmodels/tsa/base/tsa_model.py:473: ValueWarning: No frequency information was provided, so inferred frequency AS-MAY will be used.\n",
      "  self._init_dates(dates, freq)\n",
      "/Users/diane/miniconda3/lib/python3.11/site-packages/statsmodels/tsa/base/tsa_model.py:473: ValueWarning: No frequency information was provided, so inferred frequency AS-MAY will be used.\n",
      "  self._init_dates(dates, freq)\n",
      "/Users/diane/miniconda3/lib/python3.11/site-packages/statsmodels/tsa/base/tsa_model.py:473: ValueWarning: No frequency information was provided, so inferred frequency AS-MAY will be used.\n",
      "  self._init_dates(dates, freq)\n",
      "/Users/diane/miniconda3/lib/python3.11/site-packages/statsmodels/tsa/base/tsa_model.py:473: ValueWarning: No frequency information was provided, so inferred frequency AS-MAY will be used.\n",
      "  self._init_dates(dates, freq)\n",
      "/Users/diane/miniconda3/lib/python3.11/site-packages/statsmodels/tsa/base/tsa_model.py:473: ValueWarning: No frequency information was provided, so inferred frequency AS-MAY will be used.\n",
      "  self._init_dates(dates, freq)\n",
      "/Users/diane/miniconda3/lib/python3.11/site-packages/statsmodels/tsa/base/tsa_model.py:473: ValueWarning: No frequency information was provided, so inferred frequency AS-MAY will be used.\n",
      "  self._init_dates(dates, freq)\n",
      "/Users/diane/miniconda3/lib/python3.11/site-packages/statsmodels/tsa/base/tsa_model.py:473: ValueWarning: No frequency information was provided, so inferred frequency AS-MAY will be used.\n",
      "  self._init_dates(dates, freq)\n",
      "/Users/diane/miniconda3/lib/python3.11/site-packages/statsmodels/tsa/base/tsa_model.py:473: ValueWarning: No frequency information was provided, so inferred frequency AS-MAY will be used.\n",
      "  self._init_dates(dates, freq)\n",
      "/Users/diane/miniconda3/lib/python3.11/site-packages/statsmodels/tsa/base/tsa_model.py:473: ValueWarning: No frequency information was provided, so inferred frequency AS-MAY will be used.\n",
      "  self._init_dates(dates, freq)\n",
      "/Users/diane/miniconda3/lib/python3.11/site-packages/statsmodels/tsa/base/tsa_model.py:473: ValueWarning: No frequency information was provided, so inferred frequency AS-MAY will be used.\n",
      "  self._init_dates(dates, freq)\n",
      "/Users/diane/miniconda3/lib/python3.11/site-packages/statsmodels/tsa/base/tsa_model.py:473: ValueWarning: No frequency information was provided, so inferred frequency AS-MAY will be used.\n",
      "  self._init_dates(dates, freq)\n",
      "/Users/diane/miniconda3/lib/python3.11/site-packages/statsmodels/tsa/base/tsa_model.py:473: ValueWarning: No frequency information was provided, so inferred frequency AS-MAY will be used.\n",
      "  self._init_dates(dates, freq)\n",
      "/Users/diane/miniconda3/lib/python3.11/site-packages/statsmodels/tsa/base/tsa_model.py:473: ValueWarning: No frequency information was provided, so inferred frequency AS-MAY will be used.\n",
      "  self._init_dates(dates, freq)\n",
      "/Users/diane/miniconda3/lib/python3.11/site-packages/statsmodels/tsa/base/tsa_model.py:473: ValueWarning: No frequency information was provided, so inferred frequency AS-MAY will be used.\n",
      "  self._init_dates(dates, freq)\n",
      "/Users/diane/miniconda3/lib/python3.11/site-packages/statsmodels/tsa/base/tsa_model.py:473: ValueWarning: No frequency information was provided, so inferred frequency AS-MAY will be used.\n",
      "  self._init_dates(dates, freq)\n",
      "/Users/diane/miniconda3/lib/python3.11/site-packages/statsmodels/tsa/base/tsa_model.py:473: ValueWarning: No frequency information was provided, so inferred frequency AS-MAY will be used.\n",
      "  self._init_dates(dates, freq)\n",
      "/Users/diane/miniconda3/lib/python3.11/site-packages/statsmodels/tsa/base/tsa_model.py:473: ValueWarning: No frequency information was provided, so inferred frequency AS-MAY will be used.\n",
      "  self._init_dates(dates, freq)\n",
      "/Users/diane/miniconda3/lib/python3.11/site-packages/statsmodels/tsa/base/tsa_model.py:473: ValueWarning: No frequency information was provided, so inferred frequency AS-MAY will be used.\n",
      "  self._init_dates(dates, freq)\n",
      "/Users/diane/miniconda3/lib/python3.11/site-packages/statsmodels/tsa/base/tsa_model.py:473: ValueWarning: No frequency information was provided, so inferred frequency AS-MAY will be used.\n",
      "  self._init_dates(dates, freq)\n",
      "/Users/diane/miniconda3/lib/python3.11/site-packages/statsmodels/tsa/base/tsa_model.py:473: ValueWarning: No frequency information was provided, so inferred frequency AS-MAY will be used.\n",
      "  self._init_dates(dates, freq)\n",
      "/Users/diane/miniconda3/lib/python3.11/site-packages/statsmodels/tsa/base/tsa_model.py:473: ValueWarning: No frequency information was provided, so inferred frequency AS-MAY will be used.\n",
      "  self._init_dates(dates, freq)\n",
      "/Users/diane/miniconda3/lib/python3.11/site-packages/statsmodels/tsa/base/tsa_model.py:473: ValueWarning: No frequency information was provided, so inferred frequency AS-MAY will be used.\n",
      "  self._init_dates(dates, freq)\n",
      "/Users/diane/miniconda3/lib/python3.11/site-packages/statsmodels/tsa/base/tsa_model.py:473: ValueWarning: No frequency information was provided, so inferred frequency AS-MAY will be used.\n",
      "  self._init_dates(dates, freq)\n",
      "/Users/diane/miniconda3/lib/python3.11/site-packages/statsmodels/tsa/base/tsa_model.py:473: ValueWarning: No frequency information was provided, so inferred frequency AS-MAY will be used.\n",
      "  self._init_dates(dates, freq)\n",
      "/Users/diane/miniconda3/lib/python3.11/site-packages/statsmodels/tsa/base/tsa_model.py:473: ValueWarning: No frequency information was provided, so inferred frequency AS-MAY will be used.\n",
      "  self._init_dates(dates, freq)\n",
      "/Users/diane/miniconda3/lib/python3.11/site-packages/statsmodels/tsa/base/tsa_model.py:473: ValueWarning: No frequency information was provided, so inferred frequency AS-MAY will be used.\n",
      "  self._init_dates(dates, freq)\n",
      "/Users/diane/miniconda3/lib/python3.11/site-packages/statsmodels/tsa/base/tsa_model.py:473: ValueWarning: No frequency information was provided, so inferred frequency AS-MAY will be used.\n",
      "  self._init_dates(dates, freq)\n",
      "/Users/diane/miniconda3/lib/python3.11/site-packages/statsmodels/tsa/base/tsa_model.py:473: ValueWarning: No frequency information was provided, so inferred frequency AS-MAY will be used.\n",
      "  self._init_dates(dates, freq)\n",
      "/Users/diane/miniconda3/lib/python3.11/site-packages/statsmodels/tsa/base/tsa_model.py:473: ValueWarning: No frequency information was provided, so inferred frequency AS-MAY will be used.\n",
      "  self._init_dates(dates, freq)\n",
      "/Users/diane/miniconda3/lib/python3.11/site-packages/statsmodels/tsa/base/tsa_model.py:473: ValueWarning: No frequency information was provided, so inferred frequency AS-MAY will be used.\n",
      "  self._init_dates(dates, freq)\n",
      "/Users/diane/miniconda3/lib/python3.11/site-packages/statsmodels/tsa/base/tsa_model.py:473: ValueWarning: No frequency information was provided, so inferred frequency AS-MAY will be used.\n",
      "  self._init_dates(dates, freq)\n",
      "/Users/diane/miniconda3/lib/python3.11/site-packages/statsmodels/tsa/base/tsa_model.py:473: ValueWarning: No frequency information was provided, so inferred frequency AS-MAY will be used.\n",
      "  self._init_dates(dates, freq)\n",
      "/Users/diane/miniconda3/lib/python3.11/site-packages/statsmodels/tsa/base/tsa_model.py:473: ValueWarning: No frequency information was provided, so inferred frequency AS-MAY will be used.\n",
      "  self._init_dates(dates, freq)\n",
      "/Users/diane/miniconda3/lib/python3.11/site-packages/statsmodels/tsa/base/tsa_model.py:473: ValueWarning: No frequency information was provided, so inferred frequency AS-MAY will be used.\n",
      "  self._init_dates(dates, freq)\n",
      "/Users/diane/miniconda3/lib/python3.11/site-packages/statsmodels/tsa/base/tsa_model.py:473: ValueWarning: No frequency information was provided, so inferred frequency AS-MAY will be used.\n",
      "  self._init_dates(dates, freq)\n",
      "/Users/diane/miniconda3/lib/python3.11/site-packages/statsmodels/tsa/base/tsa_model.py:473: ValueWarning: No frequency information was provided, so inferred frequency AS-MAY will be used.\n",
      "  self._init_dates(dates, freq)\n",
      "/Users/diane/miniconda3/lib/python3.11/site-packages/statsmodels/tsa/base/tsa_model.py:473: ValueWarning: No frequency information was provided, so inferred frequency AS-MAY will be used.\n",
      "  self._init_dates(dates, freq)\n",
      "/Users/diane/miniconda3/lib/python3.11/site-packages/statsmodels/tsa/base/tsa_model.py:473: ValueWarning: No frequency information was provided, so inferred frequency AS-MAY will be used.\n",
      "  self._init_dates(dates, freq)\n",
      "/Users/diane/miniconda3/lib/python3.11/site-packages/statsmodels/tsa/base/tsa_model.py:473: ValueWarning: No frequency information was provided, so inferred frequency AS-MAY will be used.\n",
      "  self._init_dates(dates, freq)\n",
      "/Users/diane/miniconda3/lib/python3.11/site-packages/statsmodels/tsa/base/tsa_model.py:473: ValueWarning: No frequency information was provided, so inferred frequency AS-MAY will be used.\n",
      "  self._init_dates(dates, freq)\n",
      "/Users/diane/miniconda3/lib/python3.11/site-packages/statsmodels/tsa/base/tsa_model.py:473: ValueWarning: No frequency information was provided, so inferred frequency AS-MAY will be used.\n",
      "  self._init_dates(dates, freq)\n",
      "/Users/diane/miniconda3/lib/python3.11/site-packages/statsmodels/tsa/base/tsa_model.py:473: ValueWarning: No frequency information was provided, so inferred frequency AS-MAY will be used.\n",
      "  self._init_dates(dates, freq)\n",
      "/Users/diane/miniconda3/lib/python3.11/site-packages/statsmodels/tsa/base/tsa_model.py:473: ValueWarning: No frequency information was provided, so inferred frequency AS-MAY will be used.\n",
      "  self._init_dates(dates, freq)\n",
      "/Users/diane/miniconda3/lib/python3.11/site-packages/statsmodels/tsa/base/tsa_model.py:473: ValueWarning: No frequency information was provided, so inferred frequency AS-MAY will be used.\n",
      "  self._init_dates(dates, freq)\n",
      "/Users/diane/miniconda3/lib/python3.11/site-packages/statsmodels/tsa/base/tsa_model.py:473: ValueWarning: No frequency information was provided, so inferred frequency AS-MAY will be used.\n",
      "  self._init_dates(dates, freq)\n",
      "/Users/diane/miniconda3/lib/python3.11/site-packages/statsmodels/tsa/base/tsa_model.py:473: ValueWarning: No frequency information was provided, so inferred frequency AS-MAY will be used.\n",
      "  self._init_dates(dates, freq)\n",
      "/Users/diane/miniconda3/lib/python3.11/site-packages/statsmodels/tsa/base/tsa_model.py:473: ValueWarning: No frequency information was provided, so inferred frequency AS-MAY will be used.\n",
      "  self._init_dates(dates, freq)\n",
      "/Users/diane/miniconda3/lib/python3.11/site-packages/statsmodels/tsa/base/tsa_model.py:473: ValueWarning: No frequency information was provided, so inferred frequency AS-MAY will be used.\n",
      "  self._init_dates(dates, freq)\n",
      "/Users/diane/miniconda3/lib/python3.11/site-packages/statsmodels/tsa/base/tsa_model.py:473: ValueWarning: No frequency information was provided, so inferred frequency AS-MAY will be used.\n",
      "  self._init_dates(dates, freq)\n",
      "/Users/diane/miniconda3/lib/python3.11/site-packages/statsmodels/tsa/base/tsa_model.py:473: ValueWarning: No frequency information was provided, so inferred frequency AS-MAY will be used.\n",
      "  self._init_dates(dates, freq)\n",
      "/Users/diane/miniconda3/lib/python3.11/site-packages/statsmodels/tsa/base/tsa_model.py:473: ValueWarning: No frequency information was provided, so inferred frequency AS-MAY will be used.\n",
      "  self._init_dates(dates, freq)\n",
      "/Users/diane/miniconda3/lib/python3.11/site-packages/statsmodels/tsa/base/tsa_model.py:473: ValueWarning: No frequency information was provided, so inferred frequency AS-MAY will be used.\n",
      "  self._init_dates(dates, freq)\n",
      "/Users/diane/miniconda3/lib/python3.11/site-packages/statsmodels/tsa/base/tsa_model.py:473: ValueWarning: No frequency information was provided, so inferred frequency AS-MAY will be used.\n",
      "  self._init_dates(dates, freq)\n",
      "/Users/diane/miniconda3/lib/python3.11/site-packages/statsmodels/tsa/base/tsa_model.py:473: ValueWarning: No frequency information was provided, so inferred frequency AS-MAY will be used.\n",
      "  self._init_dates(dates, freq)\n",
      "/Users/diane/miniconda3/lib/python3.11/site-packages/statsmodels/tsa/base/tsa_model.py:473: ValueWarning: No frequency information was provided, so inferred frequency AS-MAY will be used.\n",
      "  self._init_dates(dates, freq)\n",
      "/Users/diane/miniconda3/lib/python3.11/site-packages/statsmodels/tsa/base/tsa_model.py:473: ValueWarning: No frequency information was provided, so inferred frequency AS-MAY will be used.\n",
      "  self._init_dates(dates, freq)\n",
      "/Users/diane/miniconda3/lib/python3.11/site-packages/statsmodels/tsa/base/tsa_model.py:473: ValueWarning: No frequency information was provided, so inferred frequency AS-MAY will be used.\n",
      "  self._init_dates(dates, freq)\n",
      "/Users/diane/miniconda3/lib/python3.11/site-packages/statsmodels/tsa/base/tsa_model.py:473: ValueWarning: No frequency information was provided, so inferred frequency AS-MAY will be used.\n",
      "  self._init_dates(dates, freq)\n",
      "/Users/diane/miniconda3/lib/python3.11/site-packages/statsmodels/tsa/base/tsa_model.py:473: ValueWarning: No frequency information was provided, so inferred frequency AS-MAY will be used.\n",
      "  self._init_dates(dates, freq)\n",
      "/Users/diane/miniconda3/lib/python3.11/site-packages/statsmodels/tsa/base/tsa_model.py:473: ValueWarning: No frequency information was provided, so inferred frequency AS-MAY will be used.\n",
      "  self._init_dates(dates, freq)\n",
      "/Users/diane/miniconda3/lib/python3.11/site-packages/statsmodels/tsa/base/tsa_model.py:473: ValueWarning: No frequency information was provided, so inferred frequency AS-MAY will be used.\n",
      "  self._init_dates(dates, freq)\n",
      "/Users/diane/miniconda3/lib/python3.11/site-packages/statsmodels/tsa/base/tsa_model.py:473: ValueWarning: No frequency information was provided, so inferred frequency AS-MAY will be used.\n",
      "  self._init_dates(dates, freq)\n",
      "/Users/diane/miniconda3/lib/python3.11/site-packages/statsmodels/tsa/base/tsa_model.py:473: ValueWarning: No frequency information was provided, so inferred frequency AS-MAY will be used.\n",
      "  self._init_dates(dates, freq)\n",
      "/Users/diane/miniconda3/lib/python3.11/site-packages/statsmodels/tsa/base/tsa_model.py:473: ValueWarning: No frequency information was provided, so inferred frequency AS-MAY will be used.\n",
      "  self._init_dates(dates, freq)\n",
      "/Users/diane/miniconda3/lib/python3.11/site-packages/statsmodels/tsa/base/tsa_model.py:473: ValueWarning: No frequency information was provided, so inferred frequency AS-MAY will be used.\n",
      "  self._init_dates(dates, freq)\n",
      "/Users/diane/miniconda3/lib/python3.11/site-packages/statsmodels/tsa/base/tsa_model.py:473: ValueWarning: No frequency information was provided, so inferred frequency AS-MAY will be used.\n",
      "  self._init_dates(dates, freq)\n",
      "/Users/diane/miniconda3/lib/python3.11/site-packages/statsmodels/tsa/base/tsa_model.py:473: ValueWarning: No frequency information was provided, so inferred frequency AS-MAY will be used.\n",
      "  self._init_dates(dates, freq)\n",
      "/Users/diane/miniconda3/lib/python3.11/site-packages/statsmodels/tsa/base/tsa_model.py:473: ValueWarning: No frequency information was provided, so inferred frequency AS-MAY will be used.\n",
      "  self._init_dates(dates, freq)\n",
      "/Users/diane/miniconda3/lib/python3.11/site-packages/statsmodels/tsa/base/tsa_model.py:473: ValueWarning: No frequency information was provided, so inferred frequency AS-MAY will be used.\n",
      "  self._init_dates(dates, freq)\n",
      "/Users/diane/miniconda3/lib/python3.11/site-packages/statsmodels/tsa/base/tsa_model.py:473: ValueWarning: No frequency information was provided, so inferred frequency AS-MAY will be used.\n",
      "  self._init_dates(dates, freq)\n",
      "/Users/diane/miniconda3/lib/python3.11/site-packages/statsmodels/tsa/base/tsa_model.py:473: ValueWarning: No frequency information was provided, so inferred frequency AS-MAY will be used.\n",
      "  self._init_dates(dates, freq)\n",
      "/Users/diane/miniconda3/lib/python3.11/site-packages/statsmodels/tsa/base/tsa_model.py:473: ValueWarning: No frequency information was provided, so inferred frequency AS-MAY will be used.\n",
      "  self._init_dates(dates, freq)\n",
      "/Users/diane/miniconda3/lib/python3.11/site-packages/statsmodels/tsa/base/tsa_model.py:473: ValueWarning: No frequency information was provided, so inferred frequency AS-MAY will be used.\n",
      "  self._init_dates(dates, freq)\n",
      "/Users/diane/miniconda3/lib/python3.11/site-packages/statsmodels/tsa/base/tsa_model.py:473: ValueWarning: No frequency information was provided, so inferred frequency AS-MAY will be used.\n",
      "  self._init_dates(dates, freq)\n",
      "/Users/diane/miniconda3/lib/python3.11/site-packages/statsmodels/tsa/base/tsa_model.py:473: ValueWarning: No frequency information was provided, so inferred frequency AS-MAY will be used.\n",
      "  self._init_dates(dates, freq)\n",
      "/Users/diane/miniconda3/lib/python3.11/site-packages/statsmodels/tsa/base/tsa_model.py:473: ValueWarning: No frequency information was provided, so inferred frequency AS-MAY will be used.\n",
      "  self._init_dates(dates, freq)\n",
      "/Users/diane/miniconda3/lib/python3.11/site-packages/statsmodels/tsa/base/tsa_model.py:473: ValueWarning: No frequency information was provided, so inferred frequency AS-MAY will be used.\n",
      "  self._init_dates(dates, freq)\n",
      "/Users/diane/miniconda3/lib/python3.11/site-packages/statsmodels/tsa/base/tsa_model.py:473: ValueWarning: No frequency information was provided, so inferred frequency AS-MAY will be used.\n",
      "  self._init_dates(dates, freq)\n",
      "/Users/diane/miniconda3/lib/python3.11/site-packages/statsmodels/tsa/base/tsa_model.py:473: ValueWarning: No frequency information was provided, so inferred frequency AS-MAY will be used.\n",
      "  self._init_dates(dates, freq)\n",
      "/Users/diane/miniconda3/lib/python3.11/site-packages/statsmodels/tsa/base/tsa_model.py:473: ValueWarning: No frequency information was provided, so inferred frequency AS-MAY will be used.\n",
      "  self._init_dates(dates, freq)\n",
      "/Users/diane/miniconda3/lib/python3.11/site-packages/statsmodels/tsa/base/tsa_model.py:473: ValueWarning: No frequency information was provided, so inferred frequency AS-MAY will be used.\n",
      "  self._init_dates(dates, freq)\n",
      "/Users/diane/miniconda3/lib/python3.11/site-packages/statsmodels/tsa/base/tsa_model.py:473: ValueWarning: No frequency information was provided, so inferred frequency AS-MAY will be used.\n",
      "  self._init_dates(dates, freq)\n",
      "/Users/diane/miniconda3/lib/python3.11/site-packages/statsmodels/tsa/base/tsa_model.py:473: ValueWarning: No frequency information was provided, so inferred frequency AS-MAY will be used.\n",
      "  self._init_dates(dates, freq)\n",
      "/Users/diane/miniconda3/lib/python3.11/site-packages/statsmodels/tsa/base/tsa_model.py:473: ValueWarning: No frequency information was provided, so inferred frequency AS-MAY will be used.\n",
      "  self._init_dates(dates, freq)\n",
      "/Users/diane/miniconda3/lib/python3.11/site-packages/statsmodels/tsa/base/tsa_model.py:473: ValueWarning: No frequency information was provided, so inferred frequency AS-MAY will be used.\n",
      "  self._init_dates(dates, freq)\n",
      "/Users/diane/miniconda3/lib/python3.11/site-packages/statsmodels/tsa/base/tsa_model.py:473: ValueWarning: No frequency information was provided, so inferred frequency AS-MAY will be used.\n",
      "  self._init_dates(dates, freq)\n",
      "/Users/diane/miniconda3/lib/python3.11/site-packages/statsmodels/tsa/base/tsa_model.py:473: ValueWarning: No frequency information was provided, so inferred frequency AS-MAY will be used.\n",
      "  self._init_dates(dates, freq)\n",
      "/Users/diane/miniconda3/lib/python3.11/site-packages/statsmodels/tsa/base/tsa_model.py:473: ValueWarning: No frequency information was provided, so inferred frequency AS-MAY will be used.\n",
      "  self._init_dates(dates, freq)\n",
      "/Users/diane/miniconda3/lib/python3.11/site-packages/statsmodels/tsa/base/tsa_model.py:473: ValueWarning: No frequency information was provided, so inferred frequency AS-MAY will be used.\n",
      "  self._init_dates(dates, freq)\n",
      "/Users/diane/miniconda3/lib/python3.11/site-packages/statsmodels/tsa/base/tsa_model.py:473: ValueWarning: No frequency information was provided, so inferred frequency AS-MAY will be used.\n",
      "  self._init_dates(dates, freq)\n",
      "/Users/diane/miniconda3/lib/python3.11/site-packages/statsmodels/tsa/base/tsa_model.py:473: ValueWarning: No frequency information was provided, so inferred frequency AS-MAY will be used.\n",
      "  self._init_dates(dates, freq)\n",
      "/Users/diane/miniconda3/lib/python3.11/site-packages/statsmodels/tsa/base/tsa_model.py:473: ValueWarning: No frequency information was provided, so inferred frequency AS-MAY will be used.\n",
      "  self._init_dates(dates, freq)\n",
      "/Users/diane/miniconda3/lib/python3.11/site-packages/statsmodels/tsa/base/tsa_model.py:473: ValueWarning: No frequency information was provided, so inferred frequency AS-MAY will be used.\n",
      "  self._init_dates(dates, freq)\n",
      "/Users/diane/miniconda3/lib/python3.11/site-packages/statsmodels/tsa/base/tsa_model.py:473: ValueWarning: No frequency information was provided, so inferred frequency AS-MAY will be used.\n",
      "  self._init_dates(dates, freq)\n",
      "/Users/diane/miniconda3/lib/python3.11/site-packages/statsmodels/tsa/base/tsa_model.py:473: ValueWarning: No frequency information was provided, so inferred frequency AS-MAY will be used.\n",
      "  self._init_dates(dates, freq)\n",
      "/Users/diane/miniconda3/lib/python3.11/site-packages/statsmodels/tsa/base/tsa_model.py:473: ValueWarning: No frequency information was provided, so inferred frequency AS-MAY will be used.\n",
      "  self._init_dates(dates, freq)\n",
      "/Users/diane/miniconda3/lib/python3.11/site-packages/statsmodels/tsa/base/tsa_model.py:473: ValueWarning: No frequency information was provided, so inferred frequency AS-MAY will be used.\n",
      "  self._init_dates(dates, freq)\n"
     ]
    }
   ],
   "source": [
    "best_alpha = None\n",
    "lowest_residuals = None\n",
    "for alpha in alphas:\n",
    "    ses = SimpleExpSmoothing(vegas_df[\"total_points\"][0:-1]).fit(\n",
    "        optimized=False, remove_bias=True, smoothing_level=alpha)\n",
    "    pred = ses.forecast(1)\n",
    "    residuals = np.abs(vegas_df.iloc[-1][\"total_points\"] - pred.values[0])\n",
    "    if lowest_residuals is None or residuals < lowest_residuals:\n",
    "        best_alpha = alpha\n",
    "        lowest_residuals = residuals"
   ]
  },
  {
   "cell_type": "code",
   "execution_count": 43,
   "id": "af24889a-a6f0-4e7a-85da-da93b0e11822",
   "metadata": {},
   "outputs": [
    {
     "data": {
      "text/plain": [
       "0.01"
      ]
     },
     "execution_count": 43,
     "metadata": {},
     "output_type": "execute_result"
    }
   ],
   "source": [
    "best_alpha"
   ]
  },
  {
   "cell_type": "code",
   "execution_count": 44,
   "id": "488da473-e3c2-48e8-b367-ebb24bf4a0b1",
   "metadata": {},
   "outputs": [
    {
     "data": {
      "text/plain": [
       "18.291229799144872"
      ]
     },
     "execution_count": 44,
     "metadata": {},
     "output_type": "execute_result"
    }
   ],
   "source": [
    "lowest_residuals"
   ]
  },
  {
   "cell_type": "code",
   "execution_count": 45,
   "id": "b40dbe58-082b-4d1e-b2e2-29fec11c57bd",
   "metadata": {},
   "outputs": [
    {
     "name": "stderr",
     "output_type": "stream",
     "text": [
      "/Users/diane/miniconda3/lib/python3.11/site-packages/statsmodels/tsa/base/tsa_model.py:473: ValueWarning: No frequency information was provided, so inferred frequency AS-MAY will be used.\n",
      "  self._init_dates(dates, freq)\n"
     ]
    }
   ],
   "source": [
    "ses = SimpleExpSmoothing(vegas_df[\"total_points\"]).fit(\n",
    "    optimized=False, remove_bias=True, smoothing_level=best_alpha)"
   ]
  },
  {
   "cell_type": "code",
   "execution_count": 46,
   "id": "eea10cfc-7c80-411b-96b7-5f527b941d28",
   "metadata": {},
   "outputs": [
    {
     "data": {
      "text/plain": [
       "2024-05-01    95.831236\n",
       "Freq: AS-MAY, dtype: float64"
      ]
     },
     "execution_count": 46,
     "metadata": {},
     "output_type": "execute_result"
    }
   ],
   "source": [
    "ses.forecast(1)"
   ]
  },
  {
   "cell_type": "code",
   "execution_count": 47,
   "id": "054fdca8-914d-43b1-8bb9-baba9c8c3855",
   "metadata": {},
   "outputs": [],
   "source": [
    "resid_std = ses.resid.std()"
   ]
  },
  {
   "cell_type": "code",
   "execution_count": 48,
   "id": "6b03457a-fc63-4be7-9459-bc3c0e912829",
   "metadata": {},
   "outputs": [
    {
     "data": {
      "text/plain": [
       "11.927451546786228"
      ]
     },
     "execution_count": 48,
     "metadata": {},
     "output_type": "execute_result"
    }
   ],
   "source": [
    "resid_std"
   ]
  },
  {
   "cell_type": "code",
   "execution_count": 49,
   "id": "82844e1b-31eb-42d3-9a6c-9f5ec70a301f",
   "metadata": {},
   "outputs": [
    {
     "data": {
      "text/plain": [
       "2024-05-01    72.453431\n",
       "Freq: AS-MAY, dtype: float64"
      ]
     },
     "execution_count": 49,
     "metadata": {},
     "output_type": "execute_result"
    }
   ],
   "source": [
    "ses.forecast(1) - (1.96 * resid_std)"
   ]
  },
  {
   "cell_type": "code",
   "execution_count": 50,
   "id": "8aaa7efb-1e3e-4978-894a-df9c0cc1439f",
   "metadata": {},
   "outputs": [
    {
     "data": {
      "text/plain": [
       "2024-05-01    119.209041\n",
       "Freq: AS-MAY, dtype: float64"
      ]
     },
     "execution_count": 50,
     "metadata": {},
     "output_type": "execute_result"
    }
   ],
   "source": [
    "ses.forecast(1) + (1.96 * resid_std)"
   ]
  },
  {
   "cell_type": "code",
   "execution_count": null,
   "id": "0d05d2da-ca60-4ba9-a2f2-d786c789e711",
   "metadata": {},
   "outputs": [],
   "source": []
  }
 ],
 "metadata": {
  "kernelspec": {
   "display_name": "Python 3 (ipykernel)",
   "language": "python",
   "name": "python3"
  },
  "language_info": {
   "codemirror_mode": {
    "name": "ipython",
    "version": 3
   },
   "file_extension": ".py",
   "mimetype": "text/x-python",
   "name": "python",
   "nbconvert_exporter": "python",
   "pygments_lexer": "ipython3",
   "version": "3.11.5"
  }
 },
 "nbformat": 4,
 "nbformat_minor": 5
}
